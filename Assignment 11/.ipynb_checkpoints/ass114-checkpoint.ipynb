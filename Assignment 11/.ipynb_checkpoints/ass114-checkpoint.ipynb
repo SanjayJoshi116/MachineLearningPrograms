{
 "cells": [
  {
   "cell_type": "code",
   "execution_count": 1,
   "id": "86173cf8",
   "metadata": {},
   "outputs": [
    {
     "name": "stdout",
     "output_type": "stream",
     "text": [
      "[0.15 0.2  0.25]\n",
      "Outputs after training\n",
      "[0.5621765  0.64565631 0.59868766 0.61063923]\n",
      "Total Loss:  0.26176549278827144\n"
     ]
    }
   ],
   "source": [
    "import numpy as np\n",
    "\n",
    "def sigmoid(x):\n",
    "    return (1/(1+np.exp(-x)))\n",
    "\n",
    "trainX=np.array([[0,0,1],\n",
    "                [1,1,1],\n",
    "                [1,0,1],\n",
    "                 [0,1,1]])\n",
    "trainY=np.array([[0,1,1,0]]).T\n",
    "weights=np.array([0.15,0.20,0.25])\n",
    "print(weights)\n",
    "for i in range(1):\n",
    "    input_layer=trainX\n",
    "    output=sigmoid(np.dot(input_layer,weights))\n",
    "print(\"Outputs after training\")\n",
    "print(output)\n",
    "\n",
    "# Calculate the total loss\n",
    "error = trainY - output\n",
    "squared_error = np.square(error)\n",
    "mean_squared_error = np.mean(squared_error)\n",
    "total_loss = mean_squared_error\n",
    "print(\"Total Loss: \", total_loss)\n"
   ]
  },
  {
   "cell_type": "code",
   "execution_count": null,
   "id": "6d5ae534",
   "metadata": {},
   "outputs": [],
   "source": []
  }
 ],
 "metadata": {
  "kernelspec": {
   "display_name": "Python 3 (ipykernel)",
   "language": "python",
   "name": "python3"
  },
  "language_info": {
   "codemirror_mode": {
    "name": "ipython",
    "version": 3
   },
   "file_extension": ".py",
   "mimetype": "text/x-python",
   "name": "python",
   "nbconvert_exporter": "python",
   "pygments_lexer": "ipython3",
   "version": "3.8.10"
  }
 },
 "nbformat": 4,
 "nbformat_minor": 5
}
