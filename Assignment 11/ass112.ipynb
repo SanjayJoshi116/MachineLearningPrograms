{
 "cells": [
  {
   "cell_type": "code",
   "execution_count": 3,
   "id": "a21de42e",
   "metadata": {},
   "outputs": [
    {
     "name": "stdout",
     "output_type": "stream",
     "text": [
      "Cluster 1: [[170, 56], [168, 60]]\n",
      "Cluster 2: [[185, 72], [179, 68], [182, 72], [188, 77], [180, 71], [180, 70], [183, 84], [180, 88], [180, 67], [177, 76]]\n"
     ]
    }
   ],
   "source": [
    "from sklearn.cluster import KMeans\n",
    "import numpy as np\n",
    "\n",
    "# Create the dataset\n",
    "data = [[185, 72], [170, 56], [168, 60], [179, 68], [182, 72], [188, 77], [180, 71], [180, 70], [183, 84], [180, 88], [180, 67], [177, 76]]\n",
    "\n",
    "# Train the k-Means model\n",
    "kmeans = KMeans(n_clusters=2)\n",
    "kmeans.fit(data)\n",
    "\n",
    "# Get the clusters\n",
    "clusters = kmeans.predict(data)\n",
    "\n",
    "# Print the clusters\n",
    "print(\"Cluster 1:\", [data[i] for i in range(len(data)) if clusters[i] == 0])\n",
    "print(\"Cluster 2:\", [data[i] for i in range(len(data)) if clusters[i] == 1])\n"
   ]
  },
  {
   "cell_type": "code",
   "execution_count": null,
   "id": "ac4d7527",
   "metadata": {},
   "outputs": [],
   "source": []
  }
 ],
 "metadata": {
  "kernelspec": {
   "display_name": "Python 3 (ipykernel)",
   "language": "python",
   "name": "python3"
  },
  "language_info": {
   "codemirror_mode": {
    "name": "ipython",
    "version": 3
   },
   "file_extension": ".py",
   "mimetype": "text/x-python",
   "name": "python",
   "nbconvert_exporter": "python",
   "pygments_lexer": "ipython3",
   "version": "3.9.13"
  }
 },
 "nbformat": 4,
 "nbformat_minor": 5
}
