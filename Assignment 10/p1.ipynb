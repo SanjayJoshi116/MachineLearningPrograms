{
 "cells": [
  {
   "cell_type": "code",
   "execution_count": 1,
   "id": "978fd2e5",
   "metadata": {},
   "outputs": [
    {
     "name": "stderr",
     "output_type": "stream",
     "text": [
      "/usr/local/lib/python3.8/dist-packages/scipy/__init__.py:146: UserWarning: A NumPy version >=1.16.5 and <1.23.0 is required for this version of SciPy (detected version 1.24.1\n",
      "  warnings.warn(f\"A NumPy version >={np_minversion} and <{np_maxversion}\"\n"
     ]
    },
    {
     "name": "stdout",
     "output_type": "stream",
     "text": [
      "The new data point is classified as positive labeled\n"
     ]
    }
   ],
   "source": [
    "from sklearn import svm\n",
    "\n",
    "# Create the dataset\n",
    "X = [[1, 0], [3, 1], [3, -1]]\n",
    "y = [0, 1, 1]\n",
    "\n",
    "# Train the SVM model\n",
    "clf = svm.SVC(kernel='linear', C = 1.0)\n",
    "clf.fit(X, y)\n",
    "\n",
    "# Find the weights and the intercept\n",
    "w = clf.coef_[0]\n",
    "b = clf.intercept_[0]\n",
    "\n",
    "# Classify the new data point\n",
    "new_data = [4, 2]\n",
    "prediction = clf.predict([new_data])\n",
    "\n",
    "if prediction[0] == 0:\n",
    "    print(\"The new data point is classified as negative labeled\")\n",
    "else:\n",
    "    print(\"The new data point is classified as positive labeled\")"
   ]
  }
 ],
 "metadata": {
  "kernelspec": {
   "display_name": "Python 3 (ipykernel)",
   "language": "python",
   "name": "python3"
  },
  "language_info": {
   "codemirror_mode": {
    "name": "ipython",
    "version": 3
   },
   "file_extension": ".py",
   "mimetype": "text/x-python",
   "name": "python",
   "nbconvert_exporter": "python",
   "pygments_lexer": "ipython3",
   "version": "3.9.13"
  }
 },
 "nbformat": 4,
 "nbformat_minor": 5
}
