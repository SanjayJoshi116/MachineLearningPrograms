{
 "cells": [
  {
   "cell_type": "code",
   "execution_count": 1,
   "id": "215bb35e",
   "metadata": {},
   "outputs": [],
   "source": [
    "import pandas as pd\n",
    "import numpy as np\n",
    "import matplotlib.pyplot as plt"
   ]
  },
  {
   "cell_type": "code",
   "execution_count": 2,
   "id": "1cf42c10",
   "metadata": {},
   "outputs": [],
   "source": [
    "np.random.seed(0)\n",
    "x = 2 - 3 * np.random.normal(0, 1, 20)\n",
    "y = x - 2 * (x ** 2) + 0.5 * (x ** 3) + np.random.normal(-3, 3, 20)\n",
    "df = pd.DataFrame({'Y':y,'X':x})"
   ]
  },
  {
   "cell_type": "code",
   "execution_count": 3,
   "id": "d0fd00c0",
   "metadata": {},
   "outputs": [],
   "source": [
    "df.insert(0,'B0',1)\n",
    "df.insert(3,'X2',x*x)"
   ]
  },
  {
   "cell_type": "code",
   "execution_count": 4,
   "id": "204589b0",
   "metadata": {},
   "outputs": [],
   "source": [
    "X = df.drop('Y',axis=1)\n",
    "X = X.values\n",
    "y = df['Y'].values"
   ]
  },
  {
   "cell_type": "code",
   "execution_count": 5,
   "id": "82580a92",
   "metadata": {},
   "outputs": [],
   "source": [
    "Xt = X.T"
   ]
  },
  {
   "cell_type": "code",
   "execution_count": 6,
   "id": "00441c02",
   "metadata": {},
   "outputs": [],
   "source": [
    "XtX = np.dot(Xt,X)"
   ]
  },
  {
   "cell_type": "code",
   "execution_count": 7,
   "id": "127d04d1",
   "metadata": {},
   "outputs": [],
   "source": [
    "XtXInv=np.linalg.inv(XtX)"
   ]
  },
  {
   "cell_type": "code",
   "execution_count": 8,
   "id": "6455d1d0",
   "metadata": {},
   "outputs": [],
   "source": [
    "Xty = np.dot(Xt,y)"
   ]
  },
  {
   "cell_type": "code",
   "execution_count": 10,
   "id": "c0d746fd",
   "metadata": {},
   "outputs": [],
   "source": [
    "BHAT = np.dot(XtXInv,Xty)"
   ]
  },
  {
   "cell_type": "code",
   "execution_count": 11,
   "id": "2541ec4a",
   "metadata": {},
   "outputs": [
    {
     "data": {
      "text/plain": [
       "array([-6.11973959,  8.48492679, -1.62853134])"
      ]
     },
     "execution_count": 11,
     "metadata": {},
     "output_type": "execute_result"
    }
   ],
   "source": [
    "BHAT"
   ]
  },
  {
   "cell_type": "code",
   "execution_count": 12,
   "id": "faebd00c",
   "metadata": {},
   "outputs": [],
   "source": [
    "n = len(X)"
   ]
  },
  {
   "cell_type": "code",
   "execution_count": 16,
   "id": "7659948c",
   "metadata": {},
   "outputs": [
    {
     "data": {
      "image/png": "[encoded data removed]",
      "text/plain": [
       "<Figure size 640x480 with 1 Axes>"
      ]
     },
     "metadata": {},
     "output_type": "display_data"
    }
   ],
   "source": [
    "plt.scatter(df['X'],y,s=10)\n",
    "plt.scatter(df['X2'],y,s=10)\n",
    "plt.show()"
   ]
  },
  {
   "cell_type": "code",
   "execution_count": 17,
   "id": "1b8cd8df",
   "metadata": {},
   "outputs": [],
   "source": [
    "rmse = 0\n",
    "for i in range(n):\n",
    "    y_pred = BHAT[0] + BHAT[1]*df['X'] + BHAT[2]*df['X2']\n",
    "    rmse += (y[i] - y_pred)**2"
   ]
  },
  {
   "cell_type": "code",
   "execution_count": 20,
   "id": "aab18326",
   "metadata": {},
   "outputs": [
    {
     "name": "stdout",
     "output_type": "stream",
     "text": [
      "Root Mean Square Error:\n",
      " 0     0.275008\n",
      "1     0.247336\n",
      "2     0.239879\n",
      "3     0.309174\n",
      "4     0.282394\n",
      "5     0.244241\n",
      "6     0.239827\n",
      "7     0.252923\n",
      "8     0.252804\n",
      "9     0.247157\n",
      "10    0.251010\n",
      "11    0.254787\n",
      "12    0.241200\n",
      "13    0.251251\n",
      "14    0.246578\n",
      "15    0.248431\n",
      "16    0.257108\n",
      "17    0.252965\n",
      "18    0.248754\n",
      "19    0.246458\n",
      "dtype: float64\n"
     ]
    }
   ],
   "source": [
    "rmse = np.sqrt(rmse/n)\n",
    "print(\"Root Mean Square Error:\\n\",rmse)"
   ]
  },
  {
   "cell_type": "code",
   "execution_count": 21,
   "id": "c42ca3eb",
   "metadata": {},
   "outputs": [],
   "source": [
    "mean_y = np.mean(y)\n",
    "ss_tot = 0\n",
    "ss_res = 0"
   ]
  },
  {
   "cell_type": "code",
   "execution_count": 22,
   "id": "86655654",
   "metadata": {},
   "outputs": [],
   "source": [
    "for i in range(n):\n",
    "    y_pred = BHAT[0] + BHAT[1] * df['X'] + BHAT[2] * df['X2']\n",
    "    ss_tot += (y[i] - mean_y)**2\n",
    "    ss_res += (y[i] - y_pred)**2"
   ]
  },
  {
   "cell_type": "code",
   "execution_count": 24,
   "id": "4ccf2e7d",
   "metadata": {},
   "outputs": [
    {
     "name": "stdout",
     "output_type": "stream",
     "text": [
      "R2 Score:\n",
      " 0    -1.989495\n",
      "1    -0.279771\n",
      "2    -0.001777\n",
      "3    -6.628859\n",
      "4    -2.695485\n",
      "5    -0.157136\n",
      "6    -0.000027\n",
      "7    -0.530184\n",
      "8    -0.524422\n",
      "9    -0.272393\n",
      "10   -0.440020\n",
      "11   -0.622760\n",
      "12   -0.046757\n",
      "13   -0.451085\n",
      "14   -0.248742\n",
      "15   -0.325819\n",
      "16   -0.744839\n",
      "17   -0.532220\n",
      "18   -0.339644\n",
      "19   -0.243860\n",
      "dtype: float64\n"
     ]
    }
   ],
   "source": [
    "r2 = 1-(ss_res/ss_tot)\n",
    "print(\"R2 Score:\\n\",r2)"
   ]
  },
  {
   "cell_type": "code",
   "execution_count": null,
   "id": "4b8e25f8",
   "metadata": {},
   "outputs": [],
   "source": [
    "x_new = float(input(\"Enter the value for X:\"))\n",
    "print(BHAT[0] + BHAT[1] * x_new + BHAT[2] * (x_new**2))"
   ]
  }
 ],
 "metadata": {
  "kernelspec": {
   "display_name": "Python 3 (ipykernel)",
   "language": "python",
   "name": "python3"
  },
  "language_info": {
   "codemirror_mode": {
    "name": "ipython",
    "version": 3
   },
   "file_extension": ".py",
   "mimetype": "text/x-python",
   "name": "python",
   "nbconvert_exporter": "python",
   "pygments_lexer": "ipython3",
   "version": "3.9.13"
  }
 },
 "nbformat": 4,
 "nbformat_minor": 5
}
