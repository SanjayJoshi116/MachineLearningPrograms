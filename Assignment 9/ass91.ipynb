{
 "cells": [
  {
   "cell_type": "code",
   "execution_count": 1,
   "id": "2da5c636",
   "metadata": {},
   "outputs": [],
   "source": [
    "import numpy as np\n",
    "import pandas as pd"
   ]
  },
  {
   "cell_type": "code",
   "execution_count": 2,
   "id": "3262de50",
   "metadata": {},
   "outputs": [
    {
     "data": {
      "text/html": [
       "<div>\n",
       "<style scoped>\n",
       "    .dataframe tbody tr th:only-of-type {\n",
       "        vertical-align: middle;\n",
       "    }\n",
       "\n",
       "    .dataframe tbody tr th {\n",
       "        vertical-align: top;\n",
       "    }\n",
       "\n",
       "    .dataframe thead th {\n",
       "        text-align: right;\n",
       "    }\n",
       "</style>\n",
       "<table border=\"1\" class=\"dataframe\">\n",
       "  <thead>\n",
       "    <tr style=\"text-align: right;\">\n",
       "      <th></th>\n",
       "      <th>User ID</th>\n",
       "      <th>Gender</th>\n",
       "      <th>Age</th>\n",
       "      <th>EstimatedSalary</th>\n",
       "      <th>Purchased</th>\n",
       "    </tr>\n",
       "  </thead>\n",
       "  <tbody>\n",
       "    <tr>\n",
       "      <th>0</th>\n",
       "      <td>15624510</td>\n",
       "      <td>Male</td>\n",
       "      <td>19</td>\n",
       "      <td>19000</td>\n",
       "      <td>0</td>\n",
       "    </tr>\n",
       "    <tr>\n",
       "      <th>1</th>\n",
       "      <td>15810944</td>\n",
       "      <td>Male</td>\n",
       "      <td>35</td>\n",
       "      <td>20000</td>\n",
       "      <td>0</td>\n",
       "    </tr>\n",
       "    <tr>\n",
       "      <th>2</th>\n",
       "      <td>15668575</td>\n",
       "      <td>Female</td>\n",
       "      <td>26</td>\n",
       "      <td>43000</td>\n",
       "      <td>0</td>\n",
       "    </tr>\n",
       "    <tr>\n",
       "      <th>3</th>\n",
       "      <td>15603246</td>\n",
       "      <td>Female</td>\n",
       "      <td>27</td>\n",
       "      <td>57000</td>\n",
       "      <td>0</td>\n",
       "    </tr>\n",
       "    <tr>\n",
       "      <th>4</th>\n",
       "      <td>15804002</td>\n",
       "      <td>Male</td>\n",
       "      <td>19</td>\n",
       "      <td>76000</td>\n",
       "      <td>0</td>\n",
       "    </tr>\n",
       "  </tbody>\n",
       "</table>\n",
       "</div>"
      ],
      "text/plain": [
       "    User ID  Gender  Age  EstimatedSalary  Purchased\n",
       "0  15624510    Male   19            19000          0\n",
       "1  15810944    Male   35            20000          0\n",
       "2  15668575  Female   26            43000          0\n",
       "3  15603246  Female   27            57000          0\n",
       "4  15804002    Male   19            76000          0"
      ]
     },
     "execution_count": 2,
     "metadata": {},
     "output_type": "execute_result"
    }
   ],
   "source": [
    "df=pd.read_csv('Social_Network_Ads.csv')\n",
    "df.head()"
   ]
  },
  {
   "cell_type": "code",
   "execution_count": 3,
   "id": "fc1b055d",
   "metadata": {},
   "outputs": [
    {
     "data": {
      "text/html": [
       "<div>\n",
       "<style scoped>\n",
       "    .dataframe tbody tr th:only-of-type {\n",
       "        vertical-align: middle;\n",
       "    }\n",
       "\n",
       "    .dataframe tbody tr th {\n",
       "        vertical-align: top;\n",
       "    }\n",
       "\n",
       "    .dataframe thead th {\n",
       "        text-align: right;\n",
       "    }\n",
       "</style>\n",
       "<table border=\"1\" class=\"dataframe\">\n",
       "  <thead>\n",
       "    <tr style=\"text-align: right;\">\n",
       "      <th></th>\n",
       "      <th>User ID</th>\n",
       "      <th>Gender</th>\n",
       "      <th>Age</th>\n",
       "      <th>EstimatedSalary</th>\n",
       "      <th>Purchased</th>\n",
       "    </tr>\n",
       "  </thead>\n",
       "  <tbody>\n",
       "    <tr>\n",
       "      <th>0</th>\n",
       "      <td>15624510</td>\n",
       "      <td>1</td>\n",
       "      <td>19</td>\n",
       "      <td>19000</td>\n",
       "      <td>0</td>\n",
       "    </tr>\n",
       "    <tr>\n",
       "      <th>1</th>\n",
       "      <td>15810944</td>\n",
       "      <td>1</td>\n",
       "      <td>35</td>\n",
       "      <td>20000</td>\n",
       "      <td>0</td>\n",
       "    </tr>\n",
       "    <tr>\n",
       "      <th>2</th>\n",
       "      <td>15668575</td>\n",
       "      <td>0</td>\n",
       "      <td>26</td>\n",
       "      <td>43000</td>\n",
       "      <td>0</td>\n",
       "    </tr>\n",
       "    <tr>\n",
       "      <th>3</th>\n",
       "      <td>15603246</td>\n",
       "      <td>0</td>\n",
       "      <td>27</td>\n",
       "      <td>57000</td>\n",
       "      <td>0</td>\n",
       "    </tr>\n",
       "    <tr>\n",
       "      <th>4</th>\n",
       "      <td>15804002</td>\n",
       "      <td>1</td>\n",
       "      <td>19</td>\n",
       "      <td>76000</td>\n",
       "      <td>0</td>\n",
       "    </tr>\n",
       "  </tbody>\n",
       "</table>\n",
       "</div>"
      ],
      "text/plain": [
       "    User ID  Gender  Age  EstimatedSalary  Purchased\n",
       "0  15624510       1   19            19000          0\n",
       "1  15810944       1   35            20000          0\n",
       "2  15668575       0   26            43000          0\n",
       "3  15603246       0   27            57000          0\n",
       "4  15804002       1   19            76000          0"
      ]
     },
     "execution_count": 3,
     "metadata": {},
     "output_type": "execute_result"
    }
   ],
   "source": [
    "gen={'Male':1,'Female':0}\n",
    "df.Gender=[gen[item]for item in df.Gender]\n",
    "df.head()"
   ]
  },
  {
   "cell_type": "code",
   "execution_count": 4,
   "id": "c0922c9d",
   "metadata": {},
   "outputs": [
    {
     "name": "stdout",
     "output_type": "stream",
     "text": [
      "     Age  EstimatedSalary\n",
      "0     19            19000\n",
      "1     35            20000\n",
      "2     26            43000\n",
      "3     27            57000\n",
      "4     19            76000\n",
      "..   ...              ...\n",
      "395   46            41000\n",
      "396   51            23000\n",
      "397   50            20000\n",
      "398   36            33000\n",
      "399   49            36000\n",
      "\n",
      "[400 rows x 2 columns] \n",
      " 0      0\n",
      "1      0\n",
      "2      0\n",
      "3      0\n",
      "4      0\n",
      "      ..\n",
      "395    1\n",
      "396    1\n",
      "397    1\n",
      "398    0\n",
      "399    1\n",
      "Name: Purchased, Length: 400, dtype: int64\n"
     ]
    }
   ],
   "source": [
    "X=df[['Age','EstimatedSalary']]\n",
    "Y=df['Purchased']\n",
    "print(X,\"\\n\",Y)"
   ]
  },
  {
   "cell_type": "code",
   "execution_count": 5,
   "id": "9ea30540",
   "metadata": {
    "scrolled": true
   },
   "outputs": [
    {
     "name": "stdout",
     "output_type": "stream",
     "text": [
      "X      B0  Age  EstimatedSalary\n",
      "0     1   19            19000\n",
      "1     1   35            20000\n",
      "2     1   26            43000\n",
      "3     1   27            57000\n",
      "4     1   19            76000\n",
      "..   ..  ...              ...\n",
      "395   1   46            41000\n",
      "396   1   51            23000\n",
      "397   1   50            20000\n",
      "398   1   36            33000\n",
      "399   1   49            36000\n",
      "\n",
      "[400 rows x 3 columns] \n",
      "XT                    0      1      2      3      4      5      6       7    \\\n",
      "B0                   1      1      1      1      1      1      1       1   \n",
      "Age                 19     35     26     27     19     27     27      32   \n",
      "EstimatedSalary  19000  20000  43000  57000  76000  58000  84000  150000   \n",
      "\n",
      "                   8      9    ...    390    391    392    393    394    395  \\\n",
      "B0                   1      1  ...      1      1      1      1      1      1   \n",
      "Age                 25     35  ...     48     47     45     60     39     46   \n",
      "EstimatedSalary  33000  65000  ...  33000  23000  45000  42000  59000  41000   \n",
      "\n",
      "                   396    397    398    399  \n",
      "B0                   1      1      1      1  \n",
      "Age                 51     50     36     49  \n",
      "EstimatedSalary  23000  20000  33000  36000  \n",
      "\n",
      "[3 rows x 400 columns]\n"
     ]
    }
   ],
   "source": [
    "X.insert(0,'B0',1)\n",
    "xt=X.T\n",
    "print(\"X\",X,\"\\nXT\",xt)"
   ]
  },
  {
   "cell_type": "code",
   "execution_count": 6,
   "id": "e9a9ede5",
   "metadata": {},
   "outputs": [
    {
     "name": "stdout",
     "output_type": "stream",
     "text": [
      "XTX [[          400         15062      27897000]\n",
      " [        15062        611006    1072601000]\n",
      " [     27897000    1072601000 2409485000000]]\n"
     ]
    }
   ],
   "source": [
    "XTX=np.dot(xt,X)\n",
    "print(\"XTX\",XTX)\n"
   ]
  },
  {
   "cell_type": "code",
   "execution_count": 7,
   "id": "71a70f8d",
   "metadata": {},
   "outputs": [
    {
     "name": "stdout",
     "output_type": "stream",
     "text": [
      "XTXI [[ 4.05225685e-02 -8.02211160e-04 -1.12059465e-07]\n",
      " [-8.02211160e-04  2.33700867e-05 -1.11538095e-09]\n",
      " [-1.12059465e-07 -1.11538095e-09  2.20897064e-12]]\n",
      "XTY [     143     6634 12337000]\n",
      "BHAT [-9.09619165e-01  2.65605047e-02  3.82813004e-06]\n"
     ]
    }
   ],
   "source": [
    "XTXI=np.linalg.inv(XTX)\n",
    "print(\"XTXI\",XTXI)\n",
    "XTY=np.dot(xt,Y)\n",
    "print(\"XTY\",XTY)\n",
    "BHAT=np.dot(XTXI,XTY)\n",
    "print(\"BHAT\",BHAT)"
   ]
  },
  {
   "cell_type": "code",
   "execution_count": 10,
   "id": "1432f62b",
   "metadata": {},
   "outputs": [
    {
     "name": "stdout",
     "output_type": "stream",
     "text": [
      "Y_PRED 0.3374968884064251\n"
     ]
    }
   ],
   "source": [
    "age = 36\n",
    "salary = 76000\n",
    "y_pred=BHAT[0]+BHAT[1]*age+BHAT[2]*salary\n",
    "print(\"Y_PRED\",y_pred)\n",
    "prediction=1/(1+(2.718)**-y_pred)"
   ]
  },
  {
   "cell_type": "code",
   "execution_count": 11,
   "id": "9d17699a",
   "metadata": {},
   "outputs": [
    {
     "name": "stdout",
     "output_type": "stream",
     "text": [
      "Value of sigmoid function :  0.5835738555144255\n",
      "PREDICTION : YES\n"
     ]
    }
   ],
   "source": [
    "print(\"Value of sigmoid function : \",prediction)\n",
    "if prediction>0.5:\n",
    "    print(\"PREDICTION : YES\")\n",
    "else:\n",
    "    print(\"PREDICTION : NO\")"
   ]
  },
  {
   "cell_type": "code",
   "execution_count": null,
   "id": "30a1322d",
   "metadata": {},
   "outputs": [],
   "source": []
  }
 ],
 "metadata": {
  "kernelspec": {
   "display_name": "Python 3 (ipykernel)",
   "language": "python",
   "name": "python3"
  },
  "language_info": {
   "codemirror_mode": {
    "name": "ipython",
    "version": 3
   },
   "file_extension": ".py",
   "mimetype": "text/x-python",
   "name": "python",
   "nbconvert_exporter": "python",
   "pygments_lexer": "ipython3",
   "version": "3.9.13"
  }
 },
 "nbformat": 4,
 "nbformat_minor": 5
}
