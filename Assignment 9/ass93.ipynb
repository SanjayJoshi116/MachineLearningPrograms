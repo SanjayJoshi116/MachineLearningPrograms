{
 "cells": [
  {
   "cell_type": "code",
   "execution_count": 1,
   "id": "75acb9fa",
   "metadata": {},
   "outputs": [],
   "source": [
    "import numpy as np\n",
    "import pandas as pd"
   ]
  },
  {
   "cell_type": "code",
   "execution_count": 2,
   "id": "0c10d5e7",
   "metadata": {},
   "outputs": [
    {
     "data": {
      "text/html": [
       "<div>\n",
       "<style scoped>\n",
       "    .dataframe tbody tr th:only-of-type {\n",
       "        vertical-align: middle;\n",
       "    }\n",
       "\n",
       "    .dataframe tbody tr th {\n",
       "        vertical-align: top;\n",
       "    }\n",
       "\n",
       "    .dataframe thead th {\n",
       "        text-align: right;\n",
       "    }\n",
       "</style>\n",
       "<table border=\"1\" class=\"dataframe\">\n",
       "  <thead>\n",
       "    <tr style=\"text-align: right;\">\n",
       "      <th></th>\n",
       "      <th>User ID</th>\n",
       "      <th>Gender</th>\n",
       "      <th>Age</th>\n",
       "      <th>EstimatedSalary</th>\n",
       "      <th>Purchased</th>\n",
       "    </tr>\n",
       "  </thead>\n",
       "  <tbody>\n",
       "    <tr>\n",
       "      <th>0</th>\n",
       "      <td>15624510</td>\n",
       "      <td>Male</td>\n",
       "      <td>19</td>\n",
       "      <td>19000</td>\n",
       "      <td>0</td>\n",
       "    </tr>\n",
       "    <tr>\n",
       "      <th>1</th>\n",
       "      <td>15810944</td>\n",
       "      <td>Male</td>\n",
       "      <td>35</td>\n",
       "      <td>20000</td>\n",
       "      <td>0</td>\n",
       "    </tr>\n",
       "  </tbody>\n",
       "</table>\n",
       "</div>"
      ],
      "text/plain": [
       "    User ID Gender  Age  EstimatedSalary  Purchased\n",
       "0  15624510   Male   19            19000          0\n",
       "1  15810944   Male   35            20000          0"
      ]
     },
     "execution_count": 2,
     "metadata": {},
     "output_type": "execute_result"
    }
   ],
   "source": [
    "df=pd.read_csv('Social_Network_Ads.csv')\n",
    "df.head(2)"
   ]
  },
  {
   "cell_type": "code",
   "execution_count": 3,
   "id": "4e2d9ff9",
   "metadata": {},
   "outputs": [
    {
     "data": {
      "text/html": [
       "<div>\n",
       "<style scoped>\n",
       "    .dataframe tbody tr th:only-of-type {\n",
       "        vertical-align: middle;\n",
       "    }\n",
       "\n",
       "    .dataframe tbody tr th {\n",
       "        vertical-align: top;\n",
       "    }\n",
       "\n",
       "    .dataframe thead th {\n",
       "        text-align: right;\n",
       "    }\n",
       "</style>\n",
       "<table border=\"1\" class=\"dataframe\">\n",
       "  <thead>\n",
       "    <tr style=\"text-align: right;\">\n",
       "      <th></th>\n",
       "      <th>User ID</th>\n",
       "      <th>Gender</th>\n",
       "      <th>Age</th>\n",
       "      <th>EstimatedSalary</th>\n",
       "      <th>Purchased</th>\n",
       "    </tr>\n",
       "  </thead>\n",
       "  <tbody>\n",
       "    <tr>\n",
       "      <th>0</th>\n",
       "      <td>15624510</td>\n",
       "      <td>1</td>\n",
       "      <td>19</td>\n",
       "      <td>19000</td>\n",
       "      <td>0</td>\n",
       "    </tr>\n",
       "    <tr>\n",
       "      <th>1</th>\n",
       "      <td>15810944</td>\n",
       "      <td>1</td>\n",
       "      <td>35</td>\n",
       "      <td>20000</td>\n",
       "      <td>0</td>\n",
       "    </tr>\n",
       "  </tbody>\n",
       "</table>\n",
       "</div>"
      ],
      "text/plain": [
       "    User ID  Gender  Age  EstimatedSalary  Purchased\n",
       "0  15624510       1   19            19000          0\n",
       "1  15810944       1   35            20000          0"
      ]
     },
     "execution_count": 3,
     "metadata": {},
     "output_type": "execute_result"
    }
   ],
   "source": [
    "gen={'Male':1,'Female':0}\n",
    "df.Gender=[gen[item]for item in df.Gender]\n",
    "df.head(2)"
   ]
  },
  {
   "cell_type": "code",
   "execution_count": 4,
   "id": "6efd7ba9",
   "metadata": {},
   "outputs": [],
   "source": [
    "X=df[['Age','EstimatedSalary']]\n",
    "n = len(X)\n",
    "n = int(0.70*n)"
   ]
  },
  {
   "cell_type": "code",
   "execution_count": 5,
   "id": "4dc55fe3",
   "metadata": {},
   "outputs": [],
   "source": [
    "df = pd.read_csv('Social_Network_Ads.csv',nrows=n)"
   ]
  },
  {
   "cell_type": "code",
   "execution_count": 6,
   "id": "c25e335c",
   "metadata": {},
   "outputs": [
    {
     "name": "stdout",
     "output_type": "stream",
     "text": [
      "     Age  EstimatedSalary\n",
      "0     19            19000\n",
      "1     35            20000\n",
      "2     26            43000\n",
      "3     27            57000\n",
      "4     19            76000\n",
      "..   ...              ...\n",
      "275   57            74000\n",
      "276   38            71000\n",
      "277   49            88000\n",
      "278   52            38000\n",
      "279   50            36000\n",
      "\n",
      "[280 rows x 2 columns] \n",
      " 0      0\n",
      "1      0\n",
      "2      0\n",
      "3      0\n",
      "4      0\n",
      "      ..\n",
      "275    1\n",
      "276    0\n",
      "277    1\n",
      "278    1\n",
      "279    1\n",
      "Name: Purchased, Length: 280, dtype: int64\n"
     ]
    }
   ],
   "source": [
    "X=df[['Age','EstimatedSalary']]\n",
    "Y=df['Purchased']\n",
    "print(X,\"\\n\",Y)"
   ]
  },
  {
   "cell_type": "code",
   "execution_count": 7,
   "id": "532ce4ac",
   "metadata": {},
   "outputs": [
    {
     "name": "stdout",
     "output_type": "stream",
     "text": [
      "X      B0  Age  EstimatedSalary\n",
      "0     1   19            19000\n",
      "1     1   35            20000\n",
      "2     1   26            43000\n",
      "3     1   27            57000\n",
      "4     1   19            76000\n",
      "..   ..  ...              ...\n",
      "275   1   57            74000\n",
      "276   1   38            71000\n",
      "277   1   49            88000\n",
      "278   1   52            38000\n",
      "279   1   50            36000\n",
      "\n",
      "[280 rows x 3 columns] \n",
      "XT                    0      1      2      3      4      5      6       7    \\\n",
      "B0                   1      1      1      1      1      1      1       1   \n",
      "Age                 19     35     26     27     19     27     27      32   \n",
      "EstimatedSalary  19000  20000  43000  57000  76000  58000  84000  150000   \n",
      "\n",
      "                   8      9    ...     270    271    272     273    274  \\\n",
      "B0                   1      1  ...       1      1      1       1      1   \n",
      "Age                 25     35  ...      43     59     60      39     57   \n",
      "EstimatedSalary  33000  65000  ...  133000  76000  42000  106000  26000   \n",
      "\n",
      "                   275    276    277    278    279  \n",
      "B0                   1      1      1      1      1  \n",
      "Age                 57     38     49     52     50  \n",
      "EstimatedSalary  74000  71000  88000  38000  36000  \n",
      "\n",
      "[3 rows x 280 columns]\n"
     ]
    }
   ],
   "source": [
    "X.insert(0,'B0',1)\n",
    "xt=X.T\n",
    "print(\"X\",X,\"\\nXT\",xt)"
   ]
  },
  {
   "cell_type": "code",
   "execution_count": 8,
   "id": "5ad4f010",
   "metadata": {},
   "outputs": [
    {
     "name": "stdout",
     "output_type": "stream",
     "text": [
      "XTX [[          280          9682      19176000]\n",
      " [         9682        363446     684980000]\n",
      " [     19176000     684980000 1648324000000]]\n"
     ]
    }
   ],
   "source": [
    "XTX=np.dot(xt,X)\n",
    "print(\"XTX\",XTX)"
   ]
  },
  {
   "cell_type": "code",
   "execution_count": 9,
   "id": "6bdfc583",
   "metadata": {},
   "outputs": [
    {
     "name": "stdout",
     "output_type": "stream",
     "text": [
      "XTXI [[ 5.08534771e-02 -1.10568124e-03 -1.32132239e-07]\n",
      " [-1.10568124e-03  3.67314758e-05 -2.40109518e-09]\n",
      " [-1.32132239e-07 -2.40109518e-09  3.14165782e-12]]\n",
      "XTY [     69    3071 6731000]\n",
      "BHAT [-7.76039270e-01  2.03485849e-02  4.65561102e-06]\n"
     ]
    }
   ],
   "source": [
    "XTXI=np.linalg.inv(XTX)\n",
    "print(\"XTXI\",XTXI)\n",
    "XTY=np.dot(xt,Y)\n",
    "print(\"XTY\",XTY)\n",
    "BHAT=np.dot(XTXI,XTY)\n",
    "print(\"BHAT\",BHAT)"
   ]
  },
  {
   "cell_type": "code",
   "execution_count": 12,
   "id": "d62f96c8",
   "metadata": {},
   "outputs": [
    {
     "name": "stdout",
     "output_type": "stream",
     "text": [
      "Y_PRED 0.3103362227411173\n"
     ]
    }
   ],
   "source": [
    "age = 36\n",
    "salary = 76000\n",
    "y_pred=BHAT[0]+BHAT[1]*age+BHAT[2]*salary\n",
    "print(\"Y_PRED\",y_pred)\n",
    "prediction=1/(1+(2.718)**-y_pred)"
   ]
  },
  {
   "cell_type": "code",
   "execution_count": 13,
   "id": "8bb4a9ee",
   "metadata": {},
   "outputs": [
    {
     "name": "stdout",
     "output_type": "stream",
     "text": [
      "Value of sigmoid function :  0.576959473516792\n",
      "PREDICTION : YES\n"
     ]
    }
   ],
   "source": [
    "print(\"Value of sigmoid function : \",prediction)\n",
    "if prediction>0.5:\n",
    "    print(\"PREDICTION : YES\")\n",
    "else:\n",
    "    print(\"PREDICTION : NO\")"
   ]
  },
  {
   "cell_type": "code",
   "execution_count": null,
   "id": "f1e01cad",
   "metadata": {},
   "outputs": [],
   "source": []
  }
 ],
 "metadata": {
  "kernelspec": {
   "display_name": "Python 3 (ipykernel)",
   "language": "python",
   "name": "python3"
  },
  "language_info": {
   "codemirror_mode": {
    "name": "ipython",
    "version": 3
   },
   "file_extension": ".py",
   "mimetype": "text/x-python",
   "name": "python",
   "nbconvert_exporter": "python",
   "pygments_lexer": "ipython3",
   "version": "3.9.13"
  }
 },
 "nbformat": 4,
 "nbformat_minor": 5
}
