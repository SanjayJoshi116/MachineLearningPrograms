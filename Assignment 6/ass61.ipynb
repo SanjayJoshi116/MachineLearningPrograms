{
 "cells": [
  {
   "cell_type": "code",
   "execution_count": 1,
   "id": "3b536251",
   "metadata": {},
   "outputs": [],
   "source": [
    "import pandas as pd\n",
    "import numpy as np\n",
    "import matplotlib.pyplot as plt"
   ]
  },
  {
   "cell_type": "code",
   "execution_count": 2,
   "id": "13c15fbd",
   "metadata": {},
   "outputs": [
    {
     "data": {
      "text/html": [
       "<div>\n",
       "<style scoped>\n",
       "    .dataframe tbody tr th:only-of-type {\n",
       "        vertical-align: middle;\n",
       "    }\n",
       "\n",
       "    .dataframe tbody tr th {\n",
       "        vertical-align: top;\n",
       "    }\n",
       "\n",
       "    .dataframe thead th {\n",
       "        text-align: right;\n",
       "    }\n",
       "</style>\n",
       "<table border=\"1\" class=\"dataframe\">\n",
       "  <thead>\n",
       "    <tr style=\"text-align: right;\">\n",
       "      <th></th>\n",
       "      <th>Y</th>\n",
       "      <th>X1</th>\n",
       "      <th>X2</th>\n",
       "      <th>X3</th>\n",
       "    </tr>\n",
       "  </thead>\n",
       "  <tbody>\n",
       "    <tr>\n",
       "      <th>0</th>\n",
       "      <td>43</td>\n",
       "      <td>30</td>\n",
       "      <td>63</td>\n",
       "      <td>33</td>\n",
       "    </tr>\n",
       "    <tr>\n",
       "      <th>1</th>\n",
       "      <td>63</td>\n",
       "      <td>45</td>\n",
       "      <td>47</td>\n",
       "      <td>52</td>\n",
       "    </tr>\n",
       "    <tr>\n",
       "      <th>2</th>\n",
       "      <td>71</td>\n",
       "      <td>68</td>\n",
       "      <td>67</td>\n",
       "      <td>62</td>\n",
       "    </tr>\n",
       "    <tr>\n",
       "      <th>3</th>\n",
       "      <td>61</td>\n",
       "      <td>46</td>\n",
       "      <td>83</td>\n",
       "      <td>42</td>\n",
       "    </tr>\n",
       "    <tr>\n",
       "      <th>4</th>\n",
       "      <td>81</td>\n",
       "      <td>66</td>\n",
       "      <td>84</td>\n",
       "      <td>42</td>\n",
       "    </tr>\n",
       "  </tbody>\n",
       "</table>\n",
       "</div>"
      ],
      "text/plain": [
       "    Y  X1  X2  X3\n",
       "0  43  30  63  33\n",
       "1  63  45  47  52\n",
       "2  71  68  67  62\n",
       "3  61  46  83  42\n",
       "4  81  66  84  42"
      ]
     },
     "execution_count": 2,
     "metadata": {},
     "output_type": "execute_result"
    }
   ],
   "source": [
    "df = pd.read_csv('E:/GitHub Desktop/AI & ML/Assignment 6/MyData.csv')\n",
    "df.head()"
   ]
  },
  {
   "cell_type": "code",
   "execution_count": 3,
   "id": "40cad767",
   "metadata": {},
   "outputs": [],
   "source": [
    "X = df.drop('Y', axis = 1)"
   ]
  },
  {
   "cell_type": "code",
   "execution_count": 4,
   "id": "61f2f578",
   "metadata": {},
   "outputs": [],
   "source": [
    "X.insert(0,'B0',[1,1,1,1,1,1])"
   ]
  },
  {
   "cell_type": "code",
   "execution_count": 5,
   "id": "2876da0a",
   "metadata": {},
   "outputs": [],
   "source": [
    "X = X.values\n",
    "Y = df['Y'].values"
   ]
  },
  {
   "cell_type": "code",
   "execution_count": 6,
   "id": "0fa22dda",
   "metadata": {},
   "outputs": [],
   "source": [
    "Xt = X.T"
   ]
  },
  {
   "cell_type": "code",
   "execution_count": 7,
   "id": "54f42cbf",
   "metadata": {},
   "outputs": [
    {
     "data": {
      "text/plain": [
       "array([[ 1,  1,  1,  1,  1,  1],\n",
       "       [30, 45, 68, 46, 66, 36],\n",
       "       [63, 47, 67, 83, 84, 50],\n",
       "       [33, 52, 62, 42, 42, 66]], dtype=int64)"
      ]
     },
     "execution_count": 7,
     "metadata": {},
     "output_type": "execute_result"
    }
   ],
   "source": [
    "Xt "
   ]
  },
  {
   "cell_type": "code",
   "execution_count": 8,
   "id": "0caa39e0",
   "metadata": {},
   "outputs": [],
   "source": [
    "XtX = Xt.dot(X)"
   ]
  },
  {
   "cell_type": "code",
   "execution_count": 9,
   "id": "7c968792",
   "metadata": {},
   "outputs": [
    {
     "name": "stdout",
     "output_type": "stream",
     "text": [
      "[[    6   291   394   297]\n",
      " [  291 15317 19723 14626]\n",
      " [  394 19723 27112 18991]\n",
      " [  297 14626 18991 15521]]\n"
     ]
    }
   ],
   "source": [
    "print(XtX)"
   ]
  },
  {
   "cell_type": "code",
   "execution_count": 10,
   "id": "5e51bc13",
   "metadata": {},
   "outputs": [],
   "source": [
    "XtXInv = np.linalg.inv(XtX)"
   ]
  },
  {
   "cell_type": "code",
   "execution_count": 11,
   "id": "f5a7028e",
   "metadata": {},
   "outputs": [
    {
     "name": "stdout",
     "output_type": "stream",
     "text": [
      "[[ 1.69580230e+01  8.31914459e-02 -1.73130574e-01 -1.91055228e-01]\n",
      " [ 8.31914459e-02  1.89410821e-03 -1.54994977e-03 -1.48031635e-03]\n",
      " [-1.73130574e-01 -1.54994977e-03  2.35593088e-03  1.89084867e-03]\n",
      " [-1.91055228e-01 -1.48031635e-03  1.89084867e-03  2.80171396e-03]]\n"
     ]
    }
   ],
   "source": [
    "print(XtXInv)"
   ]
  },
  {
   "cell_type": "code",
   "execution_count": 12,
   "id": "1350e17e",
   "metadata": {},
   "outputs": [],
   "source": [
    "Xty = Xt.dot(Y)"
   ]
  },
  {
   "cell_type": "code",
   "execution_count": 13,
   "id": "e65cc364",
   "metadata": {},
   "outputs": [
    {
     "name": "stdout",
     "output_type": "stream",
     "text": [
      "[  362 18653 24444 17899]\n"
     ]
    }
   ],
   "source": [
    "print(Xty)"
   ]
  },
  {
   "cell_type": "code",
   "execution_count": 14,
   "id": "0561f0e6",
   "metadata": {},
   "outputs": [],
   "source": [
    "B = XtXInv.dot(Xty)"
   ]
  },
  {
   "cell_type": "code",
   "execution_count": 15,
   "id": "98420f35",
   "metadata": {},
   "outputs": [
    {
     "name": "stdout",
     "output_type": "stream",
     "text": [
      "[38.8730967   1.06294938 -0.15180574 -0.40655013]\n"
     ]
    }
   ],
   "source": [
    "print(B)"
   ]
  },
  {
   "cell_type": "code",
   "execution_count": 16,
   "id": "9aae84d5",
   "metadata": {},
   "outputs": [],
   "source": [
    "X1 = 50\n",
    "X2 = 70\n",
    "X3 = 80\n",
    "y = B[0] + B[1] * X1 + B[2] * X2 + B[3] * X3"
   ]
  },
  {
   "cell_type": "code",
   "execution_count": 17,
   "id": "5eb0bd09",
   "metadata": {},
   "outputs": [
    {
     "name": "stdout",
     "output_type": "stream",
     "text": [
      "48.87015369722906\n"
     ]
    }
   ],
   "source": [
    "print(y)"
   ]
  },
  {
   "cell_type": "code",
   "execution_count": 18,
   "id": "68342734",
   "metadata": {},
   "outputs": [],
   "source": [
    "X1 = 30\n",
    "X2 = 40\n",
    "X3 = 50\n",
    "y = B[0] + B[1] * X1 + B[2] * X2 + B[3] * X3"
   ]
  },
  {
   "cell_type": "code",
   "execution_count": 19,
   "id": "e67dbee0",
   "metadata": {},
   "outputs": [
    {
     "name": "stdout",
     "output_type": "stream",
     "text": [
      "44.36184213169186\n"
     ]
    }
   ],
   "source": [
    "print(y)"
   ]
  },
  {
   "cell_type": "code",
   "execution_count": null,
   "id": "d5e2be48",
   "metadata": {},
   "outputs": [],
   "source": []
  }
 ],
 "metadata": {
  "kernelspec": {
   "display_name": "Python 3 (ipykernel)",
   "language": "python",
   "name": "python3"
  },
  "language_info": {
   "codemirror_mode": {
    "name": "ipython",
    "version": 3
   },
   "file_extension": ".py",
   "mimetype": "text/x-python",
   "name": "python",
   "nbconvert_exporter": "python",
   "pygments_lexer": "ipython3",
   "version": "3.9.13"
  }
 },
 "nbformat": 4,
 "nbformat_minor": 5
}
