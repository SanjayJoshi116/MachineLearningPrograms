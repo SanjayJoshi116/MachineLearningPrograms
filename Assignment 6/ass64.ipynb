{
 "cells": [
  {
   "cell_type": "code",
   "execution_count": 30,
   "id": "74cec06e",
   "metadata": {},
   "outputs": [],
   "source": [
    "import pandas as pd\n",
    "import numpy as np\n",
    "from sklearn import linear_model"
   ]
  },
  {
   "cell_type": "code",
   "execution_count": 35,
   "id": "a42a40fa",
   "metadata": {},
   "outputs": [
    {
     "name": "stdout",
     "output_type": "stream",
     "text": [
      "  experience  test_score(out of 10)  interview_score(out of 10)  salary($)\n",
      "0        NaN                    8.0                           9      50000\n",
      "1        NaN                    8.0                           6      45000\n",
      "2       five                    6.0                           7      60000\n",
      "3        two                   10.0                          10      65000\n",
      "4      seven                    9.0                           6      70000\n",
      "5      three                    7.0                          10      62000\n",
      "6        ten                    NaN                           7      72000\n",
      "7     eleven                    7.0                           8      80000\n"
     ]
    }
   ],
   "source": [
    "df=pd.read_csv('hiring.csv')\n",
    "print(df)"
   ]
  },
  {
   "cell_type": "code",
   "execution_count": null,
   "id": "63e3a58f",
   "metadata": {},
   "outputs": [],
   "source": []
  },
  {
   "cell_type": "code",
   "execution_count": 36,
   "id": "31266ade",
   "metadata": {},
   "outputs": [],
   "source": [
    "map={'one':1,'two':2,'three':3,'four':4,'five':5,'six':6,'seven':7,'eight':8,'nine':9,'ten':10,'eleven':11}\n",
    "target_feature='experience'\n",
    "df[target_feature]=df[target_feature].map(map)"
   ]
  },
  {
   "cell_type": "code",
   "execution_count": 37,
   "id": "a614ab4c",
   "metadata": {},
   "outputs": [
    {
     "name": "stdout",
     "output_type": "stream",
     "text": [
      "   experience  test_score(out of 10)  interview_score(out of 10)  salary($)\n",
      "0         NaN                    8.0                           9      50000\n",
      "1         NaN                    8.0                           6      45000\n",
      "2         5.0                    6.0                           7      60000\n",
      "3         2.0                   10.0                          10      65000\n",
      "4         7.0                    9.0                           6      70000\n",
      "5         3.0                    7.0                          10      62000\n",
      "6        10.0                    NaN                           7      72000\n",
      "7        11.0                    7.0                           8      80000\n"
     ]
    }
   ],
   "source": [
    "print(df)"
   ]
  },
  {
   "cell_type": "code",
   "execution_count": 38,
   "id": "0676c818",
   "metadata": {},
   "outputs": [
    {
     "name": "stdout",
     "output_type": "stream",
     "text": [
      "   experience  test_score(out of 10)  interview_score(out of 10)  salary($)\n",
      "0         0.0                    8.0                           9      50000\n",
      "1         0.0                    8.0                           6      45000\n",
      "2         5.0                    6.0                           7      60000\n",
      "3         2.0                   10.0                          10      65000\n",
      "4         7.0                    9.0                           6      70000\n",
      "5         3.0                    7.0                          10      62000\n",
      "6        10.0                    NaN                           7      72000\n",
      "7        11.0                    7.0                           8      80000\n"
     ]
    }
   ],
   "source": [
    "\n",
    "df['experience']=df['experience'].fillna(0)\n",
    "print(df)"
   ]
  },
  {
   "cell_type": "code",
   "execution_count": null,
   "id": "76009bd5",
   "metadata": {},
   "outputs": [],
   "source": []
  },
  {
   "cell_type": "code",
   "execution_count": 39,
   "id": "4f059cf5",
   "metadata": {},
   "outputs": [
    {
     "name": "stdout",
     "output_type": "stream",
     "text": [
      "7\n",
      "0     8.0\n",
      "1     8.0\n",
      "2     6.0\n",
      "3    10.0\n",
      "4     9.0\n",
      "5     7.0\n",
      "6     7.0\n",
      "7     7.0\n",
      "Name: test_score(out of 10), dtype: float64\n"
     ]
    }
   ],
   "source": [
    "import math\n",
    "med=math.floor(df['test_score(out of 10)'].mean())\n",
    "print(med)\n",
    "df['test_score(out of 10)'].fillna(med, inplace=True)\n",
    "print(df['test_score(out of 10)'])"
   ]
  },
  {
   "cell_type": "code",
   "execution_count": 40,
   "id": "515ce77c",
   "metadata": {},
   "outputs": [
    {
     "name": "stdout",
     "output_type": "stream",
     "text": [
      "x_train\n",
      "    experience  test_score(out of 10)  interview_score(out of 10)\n",
      "0         0.0                    8.0                           9\n",
      "1         0.0                    8.0                           6\n",
      "2         5.0                    6.0                           7\n",
      "3         2.0                   10.0                          10\n",
      "4         7.0                    9.0                           6\n",
      "5         3.0                    7.0                          10\n",
      "6        10.0                    7.0                           7\n",
      "7        11.0                    7.0                           8\n",
      "y_train\n",
      " 0    50000\n",
      "1    45000\n",
      "2    60000\n",
      "3    65000\n",
      "4    70000\n",
      "5    62000\n",
      "6    72000\n",
      "7    80000\n",
      "Name: salary($), dtype: int64\n"
     ]
    },
    {
     "data": {
      "text/plain": [
       "LinearRegression()"
      ]
     },
     "execution_count": 40,
     "metadata": {},
     "output_type": "execute_result"
    }
   ],
   "source": [
    "lr=linear_model.LinearRegression()\n",
    "x_train=df.drop('salary($)',axis=1)\n",
    "print('x_train\\n', x_train)\n",
    "y_train=df['salary($)']\n",
    "print('y_train\\n',y_train)\n",
    "lr.fit(x_train,y_train)"
   ]
  },
  {
   "cell_type": "code",
   "execution_count": 41,
   "id": "ec54de88",
   "metadata": {},
   "outputs": [
    {
     "name": "stdout",
     "output_type": "stream",
     "text": [
      "[2922.26901502 2221.30909959 2147.48256637]\n"
     ]
    }
   ],
   "source": [
    "print(lr.coef_)"
   ]
  },
  {
   "cell_type": "code",
   "execution_count": 42,
   "id": "f915f1d5",
   "metadata": {},
   "outputs": [
    {
     "name": "stdout",
     "output_type": "stream",
     "text": [
      "14992.65144669314\n"
     ]
    }
   ],
   "source": [
    "print(lr.intercept_)"
   ]
  },
  {
   "cell_type": "code",
   "execution_count": 43,
   "id": "5a87c09a",
   "metadata": {},
   "outputs": [
    {
     "data": {
      "text/plain": [
       "array([53713.86677124])"
      ]
     },
     "execution_count": 43,
     "metadata": {},
     "output_type": "execute_result"
    }
   ],
   "source": [
    "lr.predict([[2, 9, 6]])"
   ]
  },
  {
   "cell_type": "code",
   "execution_count": 44,
   "id": "421b3744",
   "metadata": {},
   "outputs": [
    {
     "data": {
      "text/plain": [
       "array([93747.79628651])"
      ]
     },
     "execution_count": 44,
     "metadata": {},
     "output_type": "execute_result"
    }
   ],
   "source": [
    "lr.predict([[12, 10, 10]])"
   ]
  },
  {
   "cell_type": "code",
   "execution_count": null,
   "id": "2476d887",
   "metadata": {},
   "outputs": [],
   "source": []
  }
 ],
 "metadata": {
  "kernelspec": {
   "display_name": "Python 3 (ipykernel)",
   "language": "python",
   "name": "python3"
  },
  "language_info": {
   "codemirror_mode": {
    "name": "ipython",
    "version": 3
   },
   "file_extension": ".py",
   "mimetype": "text/x-python",
   "name": "python",
   "nbconvert_exporter": "python",
   "pygments_lexer": "ipython3",
   "version": "3.9.13"
  }
 },
 "nbformat": 4,
 "nbformat_minor": 5
}
