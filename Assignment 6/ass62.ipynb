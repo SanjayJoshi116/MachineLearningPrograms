{
 "cells": [
  {
   "cell_type": "code",
   "execution_count": 1,
   "id": "0cb53863",
   "metadata": {},
   "outputs": [],
   "source": [
    "import pandas as pd\n",
    "import numpy as np\n",
    "import matplotlib.pyplot as plt"
   ]
  },
  {
   "cell_type": "code",
   "execution_count": 2,
   "id": "313136f0",
   "metadata": {},
   "outputs": [
    {
     "data": {
      "text/html": [
       "<div>\n",
       "<style scoped>\n",
       "    .dataframe tbody tr th:only-of-type {\n",
       "        vertical-align: middle;\n",
       "    }\n",
       "\n",
       "    .dataframe tbody tr th {\n",
       "        vertical-align: top;\n",
       "    }\n",
       "\n",
       "    .dataframe thead th {\n",
       "        text-align: right;\n",
       "    }\n",
       "</style>\n",
       "<table border=\"1\" class=\"dataframe\">\n",
       "  <thead>\n",
       "    <tr style=\"text-align: right;\">\n",
       "      <th></th>\n",
       "      <th>Area</th>\n",
       "      <th>Bedrooms</th>\n",
       "      <th>Age</th>\n",
       "      <th>Price</th>\n",
       "    </tr>\n",
       "  </thead>\n",
       "  <tbody>\n",
       "    <tr>\n",
       "      <th>0</th>\n",
       "      <td>2600</td>\n",
       "      <td>3.0</td>\n",
       "      <td>20</td>\n",
       "      <td>550000</td>\n",
       "    </tr>\n",
       "    <tr>\n",
       "      <th>1</th>\n",
       "      <td>3000</td>\n",
       "      <td>4.0</td>\n",
       "      <td>15</td>\n",
       "      <td>565000</td>\n",
       "    </tr>\n",
       "    <tr>\n",
       "      <th>2</th>\n",
       "      <td>3200</td>\n",
       "      <td>NaN</td>\n",
       "      <td>18</td>\n",
       "      <td>610000</td>\n",
       "    </tr>\n",
       "    <tr>\n",
       "      <th>3</th>\n",
       "      <td>3600</td>\n",
       "      <td>3.0</td>\n",
       "      <td>30</td>\n",
       "      <td>595000</td>\n",
       "    </tr>\n",
       "    <tr>\n",
       "      <th>4</th>\n",
       "      <td>4000</td>\n",
       "      <td>5.0</td>\n",
       "      <td>8</td>\n",
       "      <td>760000</td>\n",
       "    </tr>\n",
       "  </tbody>\n",
       "</table>\n",
       "</div>"
      ],
      "text/plain": [
       "   Area  Bedrooms  Age   Price\n",
       "0  2600       3.0   20  550000\n",
       "1  3000       4.0   15  565000\n",
       "2  3200       NaN   18  610000\n",
       "3  3600       3.0   30  595000\n",
       "4  4000       5.0    8  760000"
      ]
     },
     "execution_count": 2,
     "metadata": {},
     "output_type": "execute_result"
    }
   ],
   "source": [
    "df = pd.read_csv('E:/GitHub Desktop/AI & ML/Assignment 6/HPriceData.csv')\n",
    "df.head()"
   ]
  },
  {
   "cell_type": "code",
   "execution_count": 3,
   "id": "f8986aa5",
   "metadata": {},
   "outputs": [
    {
     "name": "stdout",
     "output_type": "stream",
     "text": [
      "3\n"
     ]
    },
    {
     "data": {
      "text/html": [
       "<div>\n",
       "<style scoped>\n",
       "    .dataframe tbody tr th:only-of-type {\n",
       "        vertical-align: middle;\n",
       "    }\n",
       "\n",
       "    .dataframe tbody tr th {\n",
       "        vertical-align: top;\n",
       "    }\n",
       "\n",
       "    .dataframe thead th {\n",
       "        text-align: right;\n",
       "    }\n",
       "</style>\n",
       "<table border=\"1\" class=\"dataframe\">\n",
       "  <thead>\n",
       "    <tr style=\"text-align: right;\">\n",
       "      <th></th>\n",
       "      <th>Area</th>\n",
       "      <th>Bedrooms</th>\n",
       "      <th>Age</th>\n",
       "      <th>Price</th>\n",
       "    </tr>\n",
       "  </thead>\n",
       "  <tbody>\n",
       "    <tr>\n",
       "      <th>0</th>\n",
       "      <td>2600</td>\n",
       "      <td>3.0</td>\n",
       "      <td>20</td>\n",
       "      <td>550000</td>\n",
       "    </tr>\n",
       "    <tr>\n",
       "      <th>1</th>\n",
       "      <td>3000</td>\n",
       "      <td>4.0</td>\n",
       "      <td>15</td>\n",
       "      <td>565000</td>\n",
       "    </tr>\n",
       "    <tr>\n",
       "      <th>2</th>\n",
       "      <td>3200</td>\n",
       "      <td>3.0</td>\n",
       "      <td>18</td>\n",
       "      <td>610000</td>\n",
       "    </tr>\n",
       "    <tr>\n",
       "      <th>3</th>\n",
       "      <td>3600</td>\n",
       "      <td>3.0</td>\n",
       "      <td>30</td>\n",
       "      <td>595000</td>\n",
       "    </tr>\n",
       "    <tr>\n",
       "      <th>4</th>\n",
       "      <td>4000</td>\n",
       "      <td>5.0</td>\n",
       "      <td>8</td>\n",
       "      <td>760000</td>\n",
       "    </tr>\n",
       "  </tbody>\n",
       "</table>\n",
       "</div>"
      ],
      "text/plain": [
       "   Area  Bedrooms  Age   Price\n",
       "0  2600       3.0   20  550000\n",
       "1  3000       4.0   15  565000\n",
       "2  3200       3.0   18  610000\n",
       "3  3600       3.0   30  595000\n",
       "4  4000       5.0    8  760000"
      ]
     },
     "execution_count": 3,
     "metadata": {},
     "output_type": "execute_result"
    }
   ],
   "source": [
    "import math\n",
    "med=math.floor(df['Bedrooms'].median())\n",
    "print(med)\n",
    "df['Bedrooms'].fillna(med, inplace=True)\n",
    "df.head()"
   ]
  },
  {
   "cell_type": "code",
   "execution_count": 4,
   "id": "704388e3",
   "metadata": {},
   "outputs": [
    {
     "name": "stdout",
     "output_type": "stream",
     "text": [
      "X\n",
      "    Area  Bedrooms  Age\n",
      "0  2600       3.0   20\n",
      "1  3000       4.0   15\n",
      "2  3200       3.0   18\n",
      "3  3600       3.0   30\n",
      "4  4000       5.0    8 \n",
      "Y\n",
      " 0    550000\n",
      "1    565000\n",
      "2    610000\n",
      "3    595000\n",
      "4    760000\n",
      "Name: Price, dtype: int64\n"
     ]
    }
   ],
   "source": [
    "X = df.drop('Price',axis = 1)\n",
    "Y = df['Price']\n",
    "print(\"X\\n\",X,\"\\nY\\n\",Y)"
   ]
  },
  {
   "cell_type": "code",
   "execution_count": 5,
   "id": "ce05c03f",
   "metadata": {},
   "outputs": [],
   "source": [
    "X.insert(0,'B0',[1,1,1,1,1])"
   ]
  },
  {
   "cell_type": "code",
   "execution_count": 6,
   "id": "12175b91",
   "metadata": {},
   "outputs": [
    {
     "data": {
      "text/html": [
       "<div>\n",
       "<style scoped>\n",
       "    .dataframe tbody tr th:only-of-type {\n",
       "        vertical-align: middle;\n",
       "    }\n",
       "\n",
       "    .dataframe tbody tr th {\n",
       "        vertical-align: top;\n",
       "    }\n",
       "\n",
       "    .dataframe thead th {\n",
       "        text-align: right;\n",
       "    }\n",
       "</style>\n",
       "<table border=\"1\" class=\"dataframe\">\n",
       "  <thead>\n",
       "    <tr style=\"text-align: right;\">\n",
       "      <th></th>\n",
       "      <th>B0</th>\n",
       "      <th>Area</th>\n",
       "      <th>Bedrooms</th>\n",
       "      <th>Age</th>\n",
       "    </tr>\n",
       "  </thead>\n",
       "  <tbody>\n",
       "    <tr>\n",
       "      <th>0</th>\n",
       "      <td>1</td>\n",
       "      <td>2600</td>\n",
       "      <td>3.0</td>\n",
       "      <td>20</td>\n",
       "    </tr>\n",
       "    <tr>\n",
       "      <th>1</th>\n",
       "      <td>1</td>\n",
       "      <td>3000</td>\n",
       "      <td>4.0</td>\n",
       "      <td>15</td>\n",
       "    </tr>\n",
       "    <tr>\n",
       "      <th>2</th>\n",
       "      <td>1</td>\n",
       "      <td>3200</td>\n",
       "      <td>3.0</td>\n",
       "      <td>18</td>\n",
       "    </tr>\n",
       "    <tr>\n",
       "      <th>3</th>\n",
       "      <td>1</td>\n",
       "      <td>3600</td>\n",
       "      <td>3.0</td>\n",
       "      <td>30</td>\n",
       "    </tr>\n",
       "    <tr>\n",
       "      <th>4</th>\n",
       "      <td>1</td>\n",
       "      <td>4000</td>\n",
       "      <td>5.0</td>\n",
       "      <td>8</td>\n",
       "    </tr>\n",
       "  </tbody>\n",
       "</table>\n",
       "</div>"
      ],
      "text/plain": [
       "   B0  Area  Bedrooms  Age\n",
       "0   1  2600       3.0   20\n",
       "1   1  3000       4.0   15\n",
       "2   1  3200       3.0   18\n",
       "3   1  3600       3.0   30\n",
       "4   1  4000       5.0    8"
      ]
     },
     "execution_count": 6,
     "metadata": {},
     "output_type": "execute_result"
    }
   ],
   "source": [
    "X"
   ]
  },
  {
   "cell_type": "code",
   "execution_count": 7,
   "id": "c8321dff",
   "metadata": {},
   "outputs": [],
   "source": [
    "Xt = X.T"
   ]
  },
  {
   "cell_type": "code",
   "execution_count": 25,
   "id": "a3c3ecb0",
   "metadata": {},
   "outputs": [
    {
     "data": {
      "text/html": [
       "<div>\n",
       "<style scoped>\n",
       "    .dataframe tbody tr th:only-of-type {\n",
       "        vertical-align: middle;\n",
       "    }\n",
       "\n",
       "    .dataframe tbody tr th {\n",
       "        vertical-align: top;\n",
       "    }\n",
       "\n",
       "    .dataframe thead th {\n",
       "        text-align: right;\n",
       "    }\n",
       "</style>\n",
       "<table border=\"1\" class=\"dataframe\">\n",
       "  <thead>\n",
       "    <tr style=\"text-align: right;\">\n",
       "      <th></th>\n",
       "      <th>0</th>\n",
       "      <th>1</th>\n",
       "      <th>2</th>\n",
       "      <th>3</th>\n",
       "      <th>4</th>\n",
       "    </tr>\n",
       "  </thead>\n",
       "  <tbody>\n",
       "    <tr>\n",
       "      <th>B0</th>\n",
       "      <td>1.0</td>\n",
       "      <td>1.0</td>\n",
       "      <td>1.0</td>\n",
       "      <td>1.0</td>\n",
       "      <td>1.0</td>\n",
       "    </tr>\n",
       "    <tr>\n",
       "      <th>Area</th>\n",
       "      <td>2600.0</td>\n",
       "      <td>3000.0</td>\n",
       "      <td>3200.0</td>\n",
       "      <td>3600.0</td>\n",
       "      <td>4000.0</td>\n",
       "    </tr>\n",
       "    <tr>\n",
       "      <th>Bedrooms</th>\n",
       "      <td>3.0</td>\n",
       "      <td>4.0</td>\n",
       "      <td>3.0</td>\n",
       "      <td>3.0</td>\n",
       "      <td>5.0</td>\n",
       "    </tr>\n",
       "    <tr>\n",
       "      <th>Age</th>\n",
       "      <td>20.0</td>\n",
       "      <td>15.0</td>\n",
       "      <td>18.0</td>\n",
       "      <td>30.0</td>\n",
       "      <td>8.0</td>\n",
       "    </tr>\n",
       "  </tbody>\n",
       "</table>\n",
       "</div>"
      ],
      "text/plain": [
       "               0       1       2       3       4\n",
       "B0           1.0     1.0     1.0     1.0     1.0\n",
       "Area      2600.0  3000.0  3200.0  3600.0  4000.0\n",
       "Bedrooms     3.0     4.0     3.0     3.0     5.0\n",
       "Age         20.0    15.0    18.0    30.0     8.0"
      ]
     },
     "execution_count": 25,
     "metadata": {},
     "output_type": "execute_result"
    }
   ],
   "source": [
    "Xt"
   ]
  },
  {
   "cell_type": "code",
   "execution_count": 26,
   "id": "0cac9b81",
   "metadata": {},
   "outputs": [],
   "source": [
    "XtX = Xt.dot(X)"
   ]
  },
  {
   "cell_type": "code",
   "execution_count": 27,
   "id": "bace333f",
   "metadata": {},
   "outputs": [
    {
     "name": "stdout",
     "output_type": "stream",
     "text": [
      "               B0        Area  Bedrooms       Age\n",
      "B0            5.0     16400.0      18.0      91.0\n",
      "Area      16400.0  54960000.0   60200.0  294600.0\n",
      "Bedrooms     18.0     60200.0      68.0     304.0\n",
      "Age          91.0    294600.0     304.0    1913.0\n"
     ]
    }
   ],
   "source": [
    "print(XtX)"
   ]
  },
  {
   "cell_type": "code",
   "execution_count": 22,
   "id": "5e8697d7",
   "metadata": {},
   "outputs": [],
   "source": [
    "XtXInv = np.linalg.inv(XtX)"
   ]
  },
  {
   "cell_type": "code",
   "execution_count": 12,
   "id": "0be9cc14",
   "metadata": {},
   "outputs": [
    {
     "name": "stdout",
     "output_type": "stream",
     "text": [
      "[[ 2.90831875e+01  1.14437500e-03 -6.00493750e+00 -6.05437500e-01]\n",
      " [ 1.14437500e-03  2.06875000e-06 -1.61187500e-03 -1.16875000e-04]\n",
      " [-6.00493750e+00 -1.61187500e-03  2.22568750e+00  1.80187500e-01]\n",
      " [-6.05437500e-01 -1.16875000e-04  1.80187500e-01  1.86875000e-02]]\n"
     ]
    }
   ],
   "source": [
    "print(XtXInv)"
   ]
  },
  {
   "cell_type": "code",
   "execution_count": 13,
   "id": "2f02b80a",
   "metadata": {},
   "outputs": [],
   "source": [
    "Xty = Xt.dot(Y)"
   ]
  },
  {
   "cell_type": "code",
   "execution_count": 14,
   "id": "25e1e167",
   "metadata": {},
   "outputs": [
    {
     "name": "stdout",
     "output_type": "stream",
     "text": [
      "B0          3.080000e+06\n",
      "Area        1.025900e+10\n",
      "Bedrooms    1.132500e+07\n",
      "Age         5.438500e+07\n",
      "dtype: float64\n"
     ]
    }
   ],
   "source": [
    "print(Xty)"
   ]
  },
  {
   "cell_type": "code",
   "execution_count": 15,
   "id": "fec0aeac",
   "metadata": {},
   "outputs": [],
   "source": [
    "BHAT = XtXInv.dot(Xty)"
   ]
  },
  {
   "cell_type": "code",
   "execution_count": 28,
   "id": "63fe3f02",
   "metadata": {},
   "outputs": [
    {
     "name": "stdout",
     "output_type": "stream",
     "text": [
      "[ 3.83725e+05  1.37250e+02 -2.60250e+04 -6.82500e+03]\n"
     ]
    }
   ],
   "source": [
    "print(BHAT)"
   ]
  },
  {
   "cell_type": "code",
   "execution_count": 17,
   "id": "7a0f07f5",
   "metadata": {},
   "outputs": [],
   "source": [
    "X1 = 3000\n",
    "X2 = 3\n",
    "X3 = 40\n",
    "y = BHAT[0] + BHAT[1] * X1 + BHAT[2] * X2 + BHAT[3] * X3"
   ]
  },
  {
   "cell_type": "code",
   "execution_count": 18,
   "id": "e5917372",
   "metadata": {},
   "outputs": [
    {
     "name": "stdout",
     "output_type": "stream",
     "text": [
      "444400.0000000023\n"
     ]
    }
   ],
   "source": [
    "print(y)"
   ]
  },
  {
   "cell_type": "code",
   "execution_count": 19,
   "id": "d3447332",
   "metadata": {},
   "outputs": [],
   "source": [
    "X1 = 2500\n",
    "X2 = 4\n",
    "X3 = 5\n",
    "y = BHAT[0] + BHAT[1] * X1 + BHAT[2] * X2 + BHAT[3] * X3"
   ]
  },
  {
   "cell_type": "code",
   "execution_count": 20,
   "id": "8c90f989",
   "metadata": {},
   "outputs": [
    {
     "name": "stdout",
     "output_type": "stream",
     "text": [
      "588625.000000005\n"
     ]
    }
   ],
   "source": [
    "print(y)"
   ]
  },
  {
   "cell_type": "code",
   "execution_count": null,
   "id": "10435e97",
   "metadata": {},
   "outputs": [],
   "source": []
  }
 ],
 "metadata": {
  "kernelspec": {
   "display_name": "Python 3 (ipykernel)",
   "language": "python",
   "name": "python3"
  },
  "language_info": {
   "codemirror_mode": {
    "name": "ipython",
    "version": 3
   },
   "file_extension": ".py",
   "mimetype": "text/x-python",
   "name": "python",
   "nbconvert_exporter": "python",
   "pygments_lexer": "ipython3",
   "version": "3.9.13"
  }
 },
 "nbformat": 4,
 "nbformat_minor": 5
}
